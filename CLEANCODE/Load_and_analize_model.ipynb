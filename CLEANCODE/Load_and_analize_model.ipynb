{
 "cells": [
  {
   "cell_type": "code",
   "execution_count": null,
   "id": "8ebaf75f",
   "metadata": {},
   "outputs": [],
   "source": [
    "import joblib"
   ]
  },
  {
   "cell_type": "code",
   "execution_count": null,
   "id": "d392403d",
   "metadata": {},
   "outputs": [],
   "source": [
    "#loaded_svm = joblib.load('svm_classifier.pkl')\n",
    "\n",
    "# Cargar el modelo\n",
    "model = load_model('model_resize_15-15.h5')\n",
    "\n",
    "# Cargar la lista de historias\n",
    "with open('histories_resize_15-15.pkl', 'rb') as file:\n",
    "    history_list = pickle.load(file)"
   ]
  },
  {
   "cell_type": "code",
   "execution_count": null,
   "id": "4677c753",
   "metadata": {},
   "outputs": [],
   "source": [
    "train_acc = model_history.history['accuracy']\n",
    "val_acc = model_history.history['val_accuracy']"
   ]
  },
  {
   "cell_type": "code",
   "execution_count": null,
   "id": "bcee16f9",
   "metadata": {},
   "outputs": [],
   "source": [
    "import numpy as np\n",
    "import matplotlib.pyplot as plt\n",
    "\n",
    "# Crear una figura y ejes para el gráfico\n",
    "fig, axes = plt.subplots(nrows=1, ncols=2, figsize=(14, 6))\n",
    "\n",
    "history_acc = []\n",
    "history_val_acc = []\n",
    "history_loss = []\n",
    "history_val_loss = []\n",
    "\n",
    "# Recopilar las precisiones (accuracy) de todas las historias en history_list\n",
    "for history in history_list:\n",
    "    history_acc.extend(history['acc'])\n",
    "    history_val_acc.extend(history['val_acc'])\n",
    "    history_loss.extend(history['loss'])\n",
    "    history_val_loss.extend(history['val_loss'])\n",
    "\n",
    "# Graficar la precisión (accuracy) en función de las épocas\n",
    "axes[0].plot(history_acc, label='Train Accuracy')\n",
    "axes[0].plot(history_val_acc, label='Validation Accuracy')\n",
    "axes[0].set_title('Accuracy')\n",
    "axes[0].set_xlabel('Epoch')\n",
    "axes[0].set_ylabel('Accuracy')\n",
    "axes[0].legend()\n",
    "\n",
    "axes[1].plot(history_loss, label='Train Loss')\n",
    "axes[1].plot(history_val_loss, label='Validation Loss')\n",
    "axes[1].set_title('Loss')\n",
    "axes[1].set_xlabel('Epoch')\n",
    "axes[1].set_ylabel('Loss')\n",
    "axes[1].legend()\n",
    "\n",
    "plt.tight_layout()\n",
    "plt.show()"
   ]
  },
  {
   "cell_type": "code",
   "execution_count": null,
   "id": "e5c5ad35",
   "metadata": {},
   "outputs": [],
   "source": [
    "import matplotlib.pyplot as plt\n",
    "\n",
    "# Labels des axes\n",
    "plt.xlabel('Epochs')\n",
    "plt.ylabel('Accuracy')\n",
    "\n",
    "# Courbe de la précision sur l'échantillon d'entrainement\n",
    "plt.plot(np.arange(1 , epochs + 1, 1),\n",
    "         model_history.history['accuracy'],\n",
    "         label = 'Training Accuracy',\n",
    "         color = 'blue')\n",
    "\n",
    "# Courbe de la précision sur l'échantillon de test\n",
    "plt.plot(np.arange(1 , epochs + 1, 1),\n",
    "         model_history.history['val_accuracy'], \n",
    "         label = 'Validation Accuracy',\n",
    "         color = 'red')\n",
    "\n",
    "# Affichage de la légende\n",
    "plt.legend()\n",
    "\n",
    "# Affichage de la figure\n",
    "plt.show()"
   ]
  },
  {
   "cell_type": "code",
   "execution_count": null,
   "id": "86e1005e",
   "metadata": {},
   "outputs": [],
   "source": []
  },
  {
   "cell_type": "code",
   "execution_count": null,
   "id": "539ddd53",
   "metadata": {},
   "outputs": [],
   "source": []
  },
  {
   "cell_type": "code",
   "execution_count": null,
   "id": "ea82fdd0",
   "metadata": {},
   "outputs": [],
   "source": []
  }
 ],
 "metadata": {
  "kernelspec": {
   "display_name": "Python 3 (ipykernel)",
   "language": "python",
   "name": "python3"
  },
  "language_info": {
   "codemirror_mode": {
    "name": "ipython",
    "version": 3
   },
   "file_extension": ".py",
   "mimetype": "text/x-python",
   "name": "python",
   "nbconvert_exporter": "python",
   "pygments_lexer": "ipython3",
   "version": "3.10.9"
  }
 },
 "nbformat": 4,
 "nbformat_minor": 5
}

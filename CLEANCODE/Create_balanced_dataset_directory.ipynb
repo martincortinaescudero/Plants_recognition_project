{
 "cells": [
  {
   "cell_type": "code",
   "execution_count": 14,
   "id": "5d9e509f",
   "metadata": {},
   "outputs": [],
   "source": [
    "import numpy as np\n",
    "import os\n",
    "from tensorflow.keras.preprocessing.image import ImageDataGenerator\n",
    "import collections"
   ]
  },
  {
   "cell_type": "code",
   "execution_count": 1,
   "id": "f314bb2e",
   "metadata": {},
   "outputs": [],
   "source": [
    "# Load all original images\n",
    "\n",
    "import pickle\n",
    "with open('../images_data.pkl', 'rb') as f:\n",
    "    images_data = pickle.load(f)"
   ]
  },
  {
   "cell_type": "code",
   "execution_count": 17,
   "id": "51e348f8",
   "metadata": {},
   "outputs": [],
   "source": [
    "# Create numpy array of the images and base directory\n",
    "\n",
    "X = []\n",
    "Y = []\n",
    "\n",
    "for image, label in images_data:\n",
    "    X.append(np.array(image))\n",
    "    Y.append(label)\n",
    "\n",
    "os.makedirs(\"../archive_balanced\", exist_ok=True)"
   ]
  },
  {
   "cell_type": "code",
   "execution_count": 22,
   "id": "e17e38f4",
   "metadata": {},
   "outputs": [
    {
     "name": "stdout",
     "output_type": "stream",
     "text": [
      "Category to Label Mapping:\n",
      "Loose Silky-bent --> 0 --> 762 images\n",
      "Cleavers --> 1 --> 335 images\n",
      "Black-grass --> 2 --> 309 images\n",
      "Scentless Mayweed --> 3 --> 607 images\n",
      "Maize --> 4 --> 257 images\n",
      "Charlock --> 5 --> 452 images\n",
      "Sugar beet --> 6 --> 463 images\n",
      "Fat Hen --> 7 --> 538 images\n",
      "Small-flowered Cranesbill --> 8 --> 576 images\n",
      "Common wheat --> 9 --> 253 images\n",
      "Common Chickweed --> 10 --> 713 images\n",
      "Shepherd Purse --> 11 --> 274 images\n"
     ]
    }
   ],
   "source": [
    "# Get all unique categories\n",
    "unique_categories = set(Y) # names of the categories\n",
    "\n",
    "# Create a mapping from category name to integer label\n",
    "category_to_label = {category: label for label, category in enumerate(unique_categories)}\n",
    "\n",
    "# Count the number of images in each category\n",
    "category_counts = collections.Counter(Y)\n",
    "\n",
    "categories = category_to_label.keys()  # Lista de categorías\n",
    "\n",
    "# Print the mapping of category names to integer labels\n",
    "print(\"Category to Label Mapping:\")\n",
    "for category, label in category_to_label.items():\n",
    "    count = category_counts[category]\n",
    "    print(f\"{category} --> {label} --> {count} images\")"
   ]
  },
  {
   "cell_type": "code",
   "execution_count": 24,
   "id": "d8218247",
   "metadata": {},
   "outputs": [
    {
     "name": "stderr",
     "output_type": "stream",
     "text": [
      "C:\\Users\\Usuario\\AppData\\Local\\Temp\\ipykernel_15500\\1066631169.py:3: VisibleDeprecationWarning: Creating an ndarray from ragged nested sequences (which is a list-or-tuple of lists-or-tuples-or ndarrays with different lengths or shapes) is deprecated. If you meant to do this, you must specify 'dtype=object' when creating the ndarray.\n",
      "  X = np.array(X)\n"
     ]
    }
   ],
   "source": [
    "# Create a list to store the integer labels corresponding to each category\n",
    "Y = [category_to_label[category] for category in Y]\n",
    "X = np.array(X)\n",
    "Y = np.array(Y)"
   ]
  },
  {
   "cell_type": "code",
   "execution_count": 25,
   "id": "e09a23c2",
   "metadata": {},
   "outputs": [
    {
     "name": "stderr",
     "output_type": "stream",
     "text": [
      "C:\\Users\\Usuario\\AppData\\Local\\Temp\\ipykernel_15500\\1533901569.py:40: VisibleDeprecationWarning: Creating an ndarray from ragged nested sequences (which is a list-or-tuple of lists-or-tuples-or ndarrays with different lengths or shapes) is deprecated. If you meant to do this, you must specify 'dtype=object' when creating the ndarray.\n",
      "  X = np.concatenate([X, np.array(X_balanced)])\n"
     ]
    }
   ],
   "source": [
    "# Balance classes by supplementing them with rotated images, zoomed images, etc., of the same class in case they are missing.\n",
    "\n",
    "# Ensure class labels in Y are encoded as integers\n",
    "class_names = np.unique(Y)\n",
    "label_to_int = {label: i for i, label in enumerate(class_names)}\n",
    "Y_encoded = np.array([label_to_int[label] for label in Y])\n",
    "\n",
    "# Define the data augmentation parameters\n",
    "data_augmentation = ImageDataGenerator(\n",
    "    rotation_range=30,        # Random rotation within +/- 30 degrees\n",
    "    zoom_range=0.25,          # Maximum 25% zoom-in or zoom-out\n",
    "    fill_mode='nearest',      # Fill newly created pixels with the nearest existing pixel\n",
    "    horizontal_flip=True      # Random horizontal flipping\n",
    ")\n",
    "\n",
    "# Create a dictionary to keep track of the class indices\n",
    "class_indices = {class_label: np.where(Y_encoded == label_to_int[class_label])[0] for class_label in class_names}\n",
    "\n",
    "# Calculate the number of samples needed for each class to balance the dataset\n",
    "max_samples = max(len(class_indices[class_label]) for class_label in class_names)\n",
    "num_classes = len(class_indices)\n",
    "samples_per_class = {class_label: max_samples - len(class_indices[class_label]) for class_label in class_names}\n",
    "\n",
    "# Generate augmented samples for each underrepresented class\n",
    "X_balanced = []\n",
    "Y_balanced = []\n",
    "\n",
    "for class_label, num_samples in samples_per_class.items():\n",
    "    indices = class_indices[class_label]\n",
    "    np.random.shuffle(indices)\n",
    "\n",
    "    for i in range(num_samples):\n",
    "        original_image = X[indices[i % len(indices)]]\n",
    "        # Apply data augmentation to create new images\n",
    "        augmented_image = data_augmentation.random_transform(original_image)\n",
    "        X_balanced.append(augmented_image)\n",
    "        Y_balanced.append(class_label)\n",
    "\n",
    "# Concatenate the original data with the new balanced data\n",
    "X = np.concatenate([X, np.array(X_balanced)])\n",
    "Y = np.concatenate([Y, np.array(Y_balanced)])\n",
    "\n",
    "# Now X_balanced and Y_balanced contain the balanced dataset with augmented images for underrepresented classes"
   ]
  },
  {
   "cell_type": "code",
   "execution_count": 27,
   "id": "4aad10a1",
   "metadata": {},
   "outputs": [
    {
     "name": "stdout",
     "output_type": "stream",
     "text": [
      "Category to Label Mapping:\n",
      "Loose Silky-bent --> 0 --> 0 images\n",
      "Cleavers --> 1 --> 0 images\n",
      "Black-grass --> 2 --> 0 images\n",
      "Scentless Mayweed --> 3 --> 0 images\n",
      "Maize --> 4 --> 0 images\n",
      "Charlock --> 5 --> 0 images\n",
      "Sugar beet --> 6 --> 0 images\n",
      "Fat Hen --> 7 --> 0 images\n",
      "Small-flowered Cranesbill --> 8 --> 0 images\n",
      "Common wheat --> 9 --> 0 images\n",
      "Common Chickweed --> 10 --> 0 images\n",
      "Shepherd Purse --> 11 --> 0 images\n"
     ]
    }
   ],
   "source": [
    "# Count the number of images in each category\n",
    "category_counts = collections.Counter(Y)\n",
    "\n",
    "# Print the mapping of category names to integer labels\n",
    "print(\"Category to Label Mapping:\")\n",
    "for category, label in category_to_label.items():\n",
    "    count = category_counts[category]\n",
    "    print(f\"{category} --> {label} --> {count} images\")"
   ]
  },
  {
   "cell_type": "code",
   "execution_count": 28,
   "id": "314d5b61",
   "metadata": {},
   "outputs": [
    {
     "name": "stdout",
     "output_type": "stream",
     "text": [
      "Counter({2: 762, 5: 762, 1: 762, 10: 762, 9: 762, 7: 762, 0: 762, 4: 762, 3: 762, 11: 762, 8: 762, 6: 762})\n"
     ]
    }
   ],
   "source": [
    "print(category_counts)"
   ]
  },
  {
   "cell_type": "code",
   "execution_count": 29,
   "id": "b693ca9b",
   "metadata": {},
   "outputs": [
    {
     "name": "stdout",
     "output_type": "stream",
     "text": [
      "Category to Label Mapping:\n",
      "Loose Silky-bent --> 0 --> 0 images\n",
      "Cleavers --> 1 --> 0 images\n",
      "Black-grass --> 2 --> 0 images\n",
      "Scentless Mayweed --> 3 --> 0 images\n",
      "Maize --> 4 --> 0 images\n",
      "Charlock --> 5 --> 0 images\n",
      "Sugar beet --> 6 --> 0 images\n",
      "Fat Hen --> 7 --> 0 images\n",
      "Small-flowered Cranesbill --> 8 --> 0 images\n",
      "Common wheat --> 9 --> 0 images\n",
      "Common Chickweed --> 10 --> 0 images\n",
      "Shepherd Purse --> 11 --> 0 images\n",
      "Working on Loose Silky-bent\n",
      "Working on Cleavers\n",
      "Working on Black-grass\n",
      "Working on Scentless Mayweed\n",
      "Working on Maize\n",
      "Working on Charlock\n",
      "Working on Sugar beet\n",
      "Working on Fat Hen\n",
      "Working on Small-flowered Cranesbill\n",
      "Working on Common wheat\n",
      "Working on Common Chickweed\n",
      "Working on Shepherd Purse\n"
     ]
    }
   ],
   "source": [
    "# Create a list to store the integer labels corresponding to each category\n",
    "#Y_labels = [category_to_label[category] for category in Y]\n",
    "\n",
    "from PIL import Image\n",
    "\n",
    "for category in categories:\n",
    "    dir = os.path.join(\"../archive_balanced\", category)\n",
    "    os.makedirs(dir, exist_ok=True)\n",
    "    label = category_to_label[category]\n",
    "    category_images = X[Y == label]\n",
    "    print(\"Working on\", category)\n",
    "    # Contador para nombrar las imágenes\n",
    "    counter = 1\n",
    "    for image in category_images:\n",
    "        # Transform image to image_array\n",
    "        image_array = np.array(image)\n",
    "        # Save image_array as an image\n",
    "        dest_path = os.path.join(\"../archive_balanced\", category, f\"image{counter}.jpg\")\n",
    "        image_to_save = Image.fromarray(image_array)\n",
    "        image_to_save.save(dest_path)\n",
    "        counter += 1"
   ]
  },
  {
   "cell_type": "code",
   "execution_count": null,
   "id": "24a7e15b",
   "metadata": {},
   "outputs": [],
   "source": []
  }
 ],
 "metadata": {
  "kernelspec": {
   "display_name": "Python 3 (ipykernel)",
   "language": "python",
   "name": "python3"
  },
  "language_info": {
   "codemirror_mode": {
    "name": "ipython",
    "version": 3
   },
   "file_extension": ".py",
   "mimetype": "text/x-python",
   "name": "python",
   "nbconvert_exporter": "python",
   "pygments_lexer": "ipython3",
   "version": "3.10.9"
  }
 },
 "nbformat": 4,
 "nbformat_minor": 5
}
